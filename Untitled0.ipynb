{
  "nbformat": 4,
  "nbformat_minor": 0,
  "metadata": {
    "colab": {
      "provenance": [],
      "authorship_tag": "ABX9TyNCyG7lJ7W+eXUA9RF0ETr5",
      "include_colab_link": true
    },
    "kernelspec": {
      "name": "python3",
      "display_name": "Python 3"
    },
    "language_info": {
      "name": "python"
    }
  },
  "cells": [
    {
      "cell_type": "markdown",
      "metadata": {
        "id": "view-in-github",
        "colab_type": "text"
      },
      "source": [
        "<a href=\"https://colab.research.google.com/github/kwenus/Lipo-Helper/blob/master/Untitled0.ipynb\" target=\"_parent\"><img src=\"https://colab.research.google.com/assets/colab-badge.svg\" alt=\"Open In Colab\"/></a>"
      ]
    },
    {
      "cell_type": "markdown",
      "source": [
        "Функции"
      ],
      "metadata": {
        "id": "5KG38Dnb769r"
      }
    },
    {
      "cell_type": "code",
      "source": [
        "def cube(num):\n",
        "  result = num ** 3\n",
        "  return result"
      ],
      "metadata": {
        "id": "CwLZ0yhtWso2"
      },
      "execution_count": 3,
      "outputs": []
    },
    {
      "cell_type": "code",
      "source": [
        "print(cube(9))"
      ],
      "metadata": {
        "colab": {
          "base_uri": "https://localhost:8080/"
        },
        "id": "ZOOmgO_N-uiy",
        "outputId": "0ecf3626-3bc3-4035-c174-b799ab0f1da7"
      },
      "execution_count": 4,
      "outputs": [
        {
          "output_type": "stream",
          "name": "stdout",
          "text": [
            "729\n"
          ]
        }
      ]
    },
    {
      "cell_type": "code",
      "source": [
        "help(print)"
      ],
      "metadata": {
        "colab": {
          "base_uri": "https://localhost:8080/"
        },
        "id": "fSA67XZC-u_B",
        "outputId": "216577cd-7eb3-4dcb-eebf-c3d71d56b762"
      },
      "execution_count": 5,
      "outputs": [
        {
          "output_type": "stream",
          "name": "stdout",
          "text": [
            "Help on built-in function print in module builtins:\n",
            "\n",
            "print(...)\n",
            "    print(value, ..., sep=' ', end='\\n', file=sys.stdout, flush=False)\n",
            "    \n",
            "    Prints the values to a stream, or to sys.stdout by default.\n",
            "    Optional keyword arguments:\n",
            "    file:  a file-like object (stream); defaults to the current sys.stdout.\n",
            "    sep:   string inserted between values, default a space.\n",
            "    end:   string appended after the last value, default a newline.\n",
            "    flush: whether to forcibly flush the stream.\n",
            "\n"
          ]
        }
      ]
    },
    {
      "cell_type": "code",
      "source": [
        "def summary(a, b):\n",
        "  '''\n",
        "  This func return sum of params\n",
        "  '''\n",
        "  return a + b\n"
      ],
      "metadata": {
        "id": "Urx82ADC-vWU"
      },
      "execution_count": 6,
      "outputs": []
    },
    {
      "cell_type": "code",
      "source": [
        "help(summary)"
      ],
      "metadata": {
        "colab": {
          "base_uri": "https://localhost:8080/"
        },
        "id": "PANEOHttCumZ",
        "outputId": "a9f04114-117b-4c45-a01c-3512035dc9d8"
      },
      "execution_count": 7,
      "outputs": [
        {
          "output_type": "stream",
          "name": "stdout",
          "text": [
            "Help on function summary in module __main__:\n",
            "\n",
            "summary(a, b)\n",
            "    This func return sum of params\n",
            "\n"
          ]
        }
      ]
    },
    {
      "cell_type": "code",
      "source": [
        "summary('r', 't')"
      ],
      "metadata": {
        "colab": {
          "base_uri": "https://localhost:8080/",
          "height": 35
        },
        "id": "qshGppisDc8c",
        "outputId": "55c10dde-5365-4034-8cf0-993571fcdafd"
      },
      "execution_count": 8,
      "outputs": [
        {
          "output_type": "execute_result",
          "data": {
            "text/plain": [
              "'rt'"
            ],
            "application/vnd.google.colaboratory.intrinsic+json": {
              "type": "string"
            }
          },
          "metadata": {},
          "execution_count": 8
        }
      ]
    },
    {
      "cell_type": "code",
      "source": [
        "def power_ (num, power=2):\n",
        "  return num ** power\n",
        "\n",
        "power_(9, 4)"
      ],
      "metadata": {
        "colab": {
          "base_uri": "https://localhost:8080/"
        },
        "id": "avIFzOW0EyYA",
        "outputId": "e2f60fe2-8a6f-4565-f848-44a39212cad2"
      },
      "execution_count": 13,
      "outputs": [
        {
          "output_type": "execute_result",
          "data": {
            "text/plain": [
              "6561"
            ]
          },
          "metadata": {},
          "execution_count": 13
        }
      ]
    },
    {
      "cell_type": "code",
      "source": [
        "def power_ (num, power=2):\n",
        "  print(num ** power)\n",
        "  return None"
      ],
      "metadata": {
        "id": "zZkWEpWrF-m2"
      },
      "execution_count": 16,
      "outputs": []
    },
    {
      "cell_type": "code",
      "source": [
        "def summary(num_1, num_2):\n",
        "  global res\n",
        "  res = num_1 + num_2\n",
        "  return res"
      ],
      "metadata": {
        "id": "CGj2-GsvGrIw"
      },
      "execution_count": 19,
      "outputs": []
    },
    {
      "cell_type": "code",
      "source": [
        "def listed(ls_1, ls_2, ls_3):\n",
        "  ls_ziped = zip(ls_1, ls_2, ls_3)\n",
        "  return ls_ziped\n",
        ""
      ],
      "metadata": {
        "id": "xbZT-43WKEKx"
      },
      "execution_count": 24,
      "outputs": []
    },
    {
      "cell_type": "code",
      "source": [
        "ls_1 = [1, 3, 4, 5]\n",
        "ls_2 = ['d', 'g', 'r', 'e', 'q']\n",
        "ls_3 = [['kok', 'dod', 'gog'], ['pop', 'lol', 'uou']]"
      ],
      "metadata": {
        "id": "EdKRN2b_KsKF"
      },
      "execution_count": 25,
      "outputs": []
    },
    {
      "cell_type": "code",
      "source": [
        "ziped_ls = listed(ls_1, ls_2, ls_3)\n",
        "for el in ziped_ls:\n",
        "  print(el)"
      ],
      "metadata": {
        "colab": {
          "base_uri": "https://localhost:8080/"
        },
        "id": "OKtPASpLLPqs",
        "outputId": "0c44e3f7-335e-45e8-94f5-f95bb4fd4f5f"
      },
      "execution_count": 29,
      "outputs": [
        {
          "output_type": "stream",
          "name": "stdout",
          "text": [
            "(1, 'd', ['kok', 'dod', 'gog'])\n",
            "(3, 'g', ['pop', 'lol', 'uou'])\n"
          ]
        }
      ]
    },
    {
      "cell_type": "code",
      "source": [
        "\n",
        "\n",
        "ls_grades = [\n",
        "    [8, 8, 9, 10, 9],\n",
        "    [7, 8, 9, 7, 9],\n",
        "    [10, 9, 8, 10, 10],\n",
        "    [7, 8, 8, 9 , 8],\n",
        "    [9, 8, 9, 6, 9],\n",
        "    [8, 9, 9, 6, 9]\n",
        "]\n",
        "\n",
        "ls_exams = [8, 9, 7, 10, 5, 6]\n",
        "i = 0\n",
        "students = []\n",
        "for el in range(6):\n",
        "  el = {\n",
        "      'name': input('Назовите свое имя: '),\n",
        "      'surname': input('Назовите свою фамилию: '),\n",
        "      'gender': input('Ваш пол: '),\n",
        "      'program_exp': bool(input('Ваш опыт в программировании: ')),\n",
        "      'grade': ls_grades[i],\n",
        "      'exam': ls_exams[i],\n",
        "  }\n",
        "  students.append(el)\n",
        "  i += 1"
      ],
      "metadata": {
        "colab": {
          "base_uri": "https://localhost:8080/"
        },
        "id": "d5iypLpOLnQw",
        "outputId": "8f478ecf-3170-4559-9f50-6a5b4d8e75fe"
      },
      "execution_count": 59,
      "outputs": [
        {
          "name": "stdout",
          "output_type": "stream",
          "text": [
            "Назовите свое имя: Костя\n",
            "Назовите свою фамилию: Канатьев\n",
            "Ваш пол: м\n",
            "Ваш опыт в программировании: 1\n",
            "Назовите свое имя: Анна\n",
            "Назовите свою фамилию: Федотова\n",
            "Ваш пол: ж\n",
            "Ваш опыт в программировании: \n",
            "Назовите свое имя: Рома\n",
            "Назовите свою фамилию: Тесля\n",
            "Ваш пол: м\n",
            "Ваш опыт в программировании: \n",
            "Назовите свое имя: Дима\n",
            "Назовите свою фамилию: Жаворонков\n",
            "Ваш пол: м\n",
            "Ваш опыт в программировании: 1\n",
            "Назовите свое имя: Наталья\n",
            "Назовите свою фамилию: Воронова\n",
            "Ваш пол: ж\n",
            "Ваш опыт в программировании: 1\n",
            "Назовите свое имя: Максим\n",
            "Назовите свою фамилию: Дьяков\n",
            "Ваш пол: м\n",
            "Ваш опыт в программировании: 1\n"
          ]
        }
      ]
    },
    {
      "cell_type": "code",
      "source": [
        "from pprint import pprint"
      ],
      "metadata": {
        "id": "HOZHe9lOSMuE"
      },
      "execution_count": 42,
      "outputs": []
    },
    {
      "cell_type": "code",
      "source": [
        "for el in students:\n",
        "  print(el)"
      ],
      "metadata": {
        "colab": {
          "base_uri": "https://localhost:8080/"
        },
        "id": "5o8cO22hSYG9",
        "outputId": "4e20fe5b-5ceb-4f97-a8ae-9239c9381268"
      },
      "execution_count": 60,
      "outputs": [
        {
          "output_type": "stream",
          "name": "stdout",
          "text": [
            "{'name': 'Костя', 'surname': 'Канатьев', 'gender': 'м', 'program_exp': True, 'grade': [8, 8, 9, 10, 9], 'exam': 8}\n",
            "{'name': 'Анна', 'surname': 'Федотова', 'gender': 'ж', 'program_exp': False, 'grade': [7, 8, 9, 7, 9], 'exam': 9}\n",
            "{'name': 'Рома', 'surname': 'Тесля', 'gender': 'м', 'program_exp': False, 'grade': [10, 9, 8, 10, 10], 'exam': 7}\n",
            "{'name': 'Дима', 'surname': 'Жаворонков', 'gender': 'м', 'program_exp': True, 'grade': [7, 8, 8, 9, 8], 'exam': 10}\n",
            "{'name': 'Наталья', 'surname': 'Воронова', 'gender': 'ж', 'program_exp': True, 'grade': [9, 8, 9, 6, 9], 'exam': 5}\n",
            "{'name': 'Максим', 'surname': 'Дьяков', 'gender': 'м', 'program_exp': True, 'grade': [8, 9, 9, 6, 9], 'exam': 6}\n"
          ]
        }
      ]
    },
    {
      "cell_type": "code",
      "source": [
        "# средний бал группы\n",
        "def avarage_grade(ls):\n",
        "  total = 0\n",
        "  for el in ls:\n",
        "    total += sum(el.get('grade')) / len(el.get('grade'))\n",
        "  return round(total / len(ls), 2)\n"
      ],
      "metadata": {
        "id": "q_Ph7OcHU9KE"
      },
      "execution_count": 44,
      "outputs": []
    },
    {
      "cell_type": "code",
      "source": [
        "avarage_grade(students)"
      ],
      "metadata": {
        "colab": {
          "base_uri": "https://localhost:8080/"
        },
        "id": "mleJTx_7WhOq",
        "outputId": "863a986a-1a28-4db5-db86-f82bf09a44f8"
      },
      "execution_count": 45,
      "outputs": [
        {
          "output_type": "execute_result",
          "data": {
            "text/plain": [
              "8.43"
            ]
          },
          "metadata": {},
          "execution_count": 45
        }
      ]
    },
    {
      "cell_type": "code",
      "source": [
        "def filtered_students(ls, exp):\n",
        "  res_ls = []\n",
        "  for el in ls:\n",
        "    if el.get('program_exp') == exp:\n",
        "      res_ls.append(f\"{el.get('name')} {el.get('surname')}\")\n",
        "  return res_ls"
      ],
      "metadata": {
        "id": "-Pw7Iug6YPHN"
      },
      "execution_count": 63,
      "outputs": []
    },
    {
      "cell_type": "markdown",
      "source": [
        "filtered_students(students, False)\n"
      ],
      "metadata": {
        "id": "E5r8_hzSZGH9"
      }
    },
    {
      "cell_type": "code",
      "source": [
        "filtered_students(students, False)"
      ],
      "metadata": {
        "colab": {
          "base_uri": "https://localhost:8080/"
        },
        "id": "u5uNI0M5c4Cn",
        "outputId": "ef653b71-769a-41a4-f3d9-2e7474f8ca3c"
      },
      "execution_count": 66,
      "outputs": [
        {
          "output_type": "execute_result",
          "data": {
            "text/plain": [
              "['Анна Федотова', 'Рома Тесля']"
            ]
          },
          "metadata": {},
          "execution_count": 66
        }
      ]
    },
    {
      "cell_type": "code",
      "source": [
        "filtered_students(students, True)"
      ],
      "metadata": {
        "colab": {
          "base_uri": "https://localhost:8080/"
        },
        "id": "fwiphTiec6FA",
        "outputId": "52452d0d-b992-41e3-d358-b1bab37ab62d"
      },
      "execution_count": 65,
      "outputs": [
        {
          "output_type": "execute_result",
          "data": {
            "text/plain": [
              "['Костя Канатьев', 'Дима Жаворонков', 'Наталья Воронова', 'Максим Дьяков']"
            ]
          },
          "metadata": {},
          "execution_count": 65
        }
      ]
    },
    {
      "cell_type": "code",
      "source": [
        "def av_student_grade(ls):\n",
        "  av_ls_grade = []\n",
        ""
      ],
      "metadata": {
        "id": "ICKgMFZfXwJD"
      },
      "execution_count": null,
      "outputs": []
    }
  ]
}